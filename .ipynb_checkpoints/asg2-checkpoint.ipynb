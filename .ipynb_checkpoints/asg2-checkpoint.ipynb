{
 "cells": [
  {
   "cell_type": "code",
   "execution_count": 7,
   "id": "a91c14cf-d335-47f0-a145-2a9630fcf9a5",
   "metadata": {},
   "outputs": [
    {
     "name": "stderr",
     "output_type": "stream",
     "text": [
      "[nltk_data] Downloading package punkt to\n",
      "[nltk_data]     C:\\Users\\Thinkpad\\AppData\\Roaming\\nltk_data...\n",
      "[nltk_data]   Package punkt is already up-to-date!\n"
     ]
    },
    {
     "ename": "NameError",
     "evalue": "name 'remove_punctutations_and_numbers' is not defined",
     "output_type": "error",
     "traceback": [
      "\u001b[1;31m---------------------------------------------------------------------------\u001b[0m",
      "\u001b[1;31mNameError\u001b[0m                                 Traceback (most recent call last)",
      "Cell \u001b[1;32mIn[7], line 62\u001b[0m\n\u001b[0;32m     60\u001b[0m \u001b[38;5;28;01mif\u001b[39;00m \u001b[38;5;18m__name__\u001b[39m \u001b[38;5;241m==\u001b[39m \u001b[38;5;124m\"\u001b[39m\u001b[38;5;124m__main__\u001b[39m\u001b[38;5;124m\"\u001b[39m:\n\u001b[0;32m     61\u001b[0m     stopwords \u001b[38;5;241m=\u001b[39m read_stopwords(\u001b[38;5;124m'\u001b[39m\u001b[38;5;124mStopword-List.txt\u001b[39m\u001b[38;5;124m'\u001b[39m)\n\u001b[1;32m---> 62\u001b[0m     createDict(\u001b[38;5;124m\"\u001b[39m\u001b[38;5;124mResearchPapers\u001b[39m\u001b[38;5;124m\"\u001b[39m)\n",
      "Cell \u001b[1;32mIn[7], line 39\u001b[0m, in \u001b[0;36mcreateDict\u001b[1;34m(docs_folder)\u001b[0m\n\u001b[0;32m     37\u001b[0m words \u001b[38;5;241m=\u001b[39m word_tokenize(content)\n\u001b[0;32m     38\u001b[0m \u001b[38;5;66;03m# Remove punctuations from tokens\u001b[39;00m\n\u001b[1;32m---> 39\u001b[0m punctuate\u001b[38;5;241m=\u001b[39m remove_punctutations_and_numbers(words)\n\u001b[0;32m     40\u001b[0m words \u001b[38;5;241m=\u001b[39m [word \u001b[38;5;28;01mfor\u001b[39;00m word \u001b[38;5;129;01min\u001b[39;00m words \u001b[38;5;28;01mif\u001b[39;00m word \u001b[38;5;129;01mnot\u001b[39;00m \u001b[38;5;129;01min\u001b[39;00m punctuate]\n\u001b[0;32m     41\u001b[0m \u001b[38;5;66;03m# Update document_list and index\u001b[39;00m\n",
      "\u001b[1;31mNameError\u001b[0m: name 'remove_punctutations_and_numbers' is not defined"
     ]
    }
   ],
   "source": [
    "import nltk\n",
    "import string\n",
    "import os\n",
    "import re\n",
    "import glob\n",
    "import string\n",
    "import pandas as pd\n",
    "import numpy as np\n",
    "from nltk.tokenize import word_tokenize\n",
    "from nltk.stem import PorterStemmer\n",
    "nltk.download('punkt')\n",
    "\n",
    "stopwords=[]\n",
    "\n",
    "def read_stopwords(filename):\n",
    "    file_read = open(filename,'r')\n",
    "    content = file_read.read();\n",
    "    file_read.close()\n",
    "    stopwords = content.split('\\n')\n",
    "    return stopwords   \n",
    "\n",
    "\n",
    "index = {}\n",
    "document_list = {}\n",
    "i = 1  # Start index from 1 instead of 0\n",
    "\n",
    "def createDict(docs_folder):\n",
    "    #docs_folder = \"ResearchPapers\"  # Folder path of the ResearchPapers folder\n",
    "    \n",
    "    for file_name in os.listdir(docs_folder):\n",
    "        file_path = os.path.join(docs_folder, file_name)\n",
    "        for encoding in ['utf-8', 'latin1', 'utf-16', 'utf-16-le', 'utf-16-be', 'iso-8859-1']:\n",
    "            try:\n",
    "                with open(file_path, 'r', encoding=encoding) as file:\n",
    "                    content = file.read()\n",
    "                    # Tokenize the document content\n",
    "                    words = word_tokenize(content)\n",
    "                    # Remove punctuations from tokens\n",
    "                    punctuate= remove_punctutations_and_numbers(words)\n",
    "                    words = [word for word in words if word not in punctuate]\n",
    "                    # Update document_list and index\n",
    "                    document_list[i] = file_name\n",
    "                    index[i] = words\n",
    "                    i += 1\n",
    "                    break  # Break the loop if the file is successfully decoded\n",
    "            except UnicodeDecodeError:\n",
    "                continue  # Try the next encoding if decoding fails\n",
    "    return (document_list)\n",
    "\n",
    "def remove_punctuations_and_numbers(text):\n",
    "    # Remove punctuations\n",
    "    text_no_punctuations = re.sub(r'[^\\w\\s]', '', text)\n",
    "\n",
    "    # Remove numbers\n",
    "    text_no_punctuations_numbers = re.sub(r'\\d', '', text_no_punctuations)\n",
    "\n",
    "    return text_no_punctuations_numbers\n",
    "\n",
    "\n",
    "if __name__ == \"__main__\":\n",
    "    stopwords = read_stopwords('Stopword-List.txt')\n",
    "    createDict(\"ResearchPapers\")\n"
   ]
  },
  {
   "cell_type": "code",
   "execution_count": 4,
   "id": "5bd10045-f746-49a0-877e-4db97159775f",
   "metadata": {},
   "outputs": [],
   "source": [
    "# Function to read files from a folder, preprocess them, and build a dictionary\n",
    "def FileRead():\n",
    "    Folder = 'ResearchPapers'\n",
    "    Pattern = '*.txt'\n",
    "    FList = glob.glob(os.path.join(Folder, Pattern))\n",
    "    for Path in FList:\n",
    "        with open(Path, 'r') as file:\n",
    "            FileContents = file.read().lower()\n",
    "            FileContents = PunctuationRemove(FileContents)\n",
    "            FileContents = FileContents.split()\n",
    "            File_name = int(Path.split(\"\\\\\")[-1].split(\".\")[0])  # Extracting document ID from file name\n",
    "            FileStem = [PorterStemmer().stem(word) for word in FileContents]\n",
    "            DictionaryBuilder(FileStem, File_name)"
   ]
  },
  {
   "cell_type": "code",
   "execution_count": 2,
   "id": "f3f5b251-b3c1-420e-abdb-5bc65a242472",
   "metadata": {},
   "outputs": [
    {
     "name": "stdout",
     "output_type": "stream",
     "text": [
      "<function DictionaryBuilder at 0x000001FEEEA2FB00>\n"
     ]
    }
   ],
   "source": [
    "print(DictionaryBuilder)"
   ]
  },
  {
   "cell_type": "code",
   "execution_count": 20,
   "id": "e90ccb86-10fd-48ca-bdc8-157892f39f1a",
   "metadata": {},
   "outputs": [
    {
     "name": "stderr",
     "output_type": "stream",
     "text": [
      "[nltk_data] Downloading package punkt to\n",
      "[nltk_data]     C:\\Users\\Thinkpad\\AppData\\Roaming\\nltk_data...\n",
      "[nltk_data]   Package punkt is already up-to-date!\n"
     ]
    }
   ],
   "source": [
    "########################################################### REFACTORED\n",
    "# preprocessing\n",
    "import re\n",
    "import nltk\n",
    "import string\n",
    "from nltk.tokenize import word_tokenize\n",
    "from nltk.stem import PorterStemmer\n",
    "\n",
    "nltk.download('punkt')\n",
    "\n",
    "def remove_punctuations_and_numbers(text):\n",
    "    # Remove punctuations\n",
    "    text_no_punctuations = re.sub(r'[^\\w\\s]', '', text)\n",
    "    # Remove numbers\n",
    "    text_no_punctuations_numbers = re.sub(r'\\d', '', text_no_punctuations)\n",
    "    return text_no_punctuations_numbers\n",
    "\n",
    "def preprocess_text(text):\n",
    "    # Tokenize the text\n",
    "    tokens = word_tokenize(text)\n",
    "    # Remove punctuations\n",
    "    tokens = [word for word in tokens if word not in string.punctuation]\n",
    "    return tokens\n",
    "\n",
    "def stem_tokens(tokens):\n",
    "    ps = PorterStemmer()\n",
    "    stemmed_tokens = [ps.stem(token.lower()) for token in tokens]\n",
    "    return stemmed_tokens\n"
   ]
  }
 ],
 "metadata": {
  "kernelspec": {
   "display_name": "Python 3 (ipykernel)",
   "language": "python",
   "name": "python3"
  },
  "language_info": {
   "codemirror_mode": {
    "name": "ipython",
    "version": 3
   },
   "file_extension": ".py",
   "mimetype": "text/x-python",
   "name": "python",
   "nbconvert_exporter": "python",
   "pygments_lexer": "ipython3",
   "version": "3.11.7"
  }
 },
 "nbformat": 4,
 "nbformat_minor": 5
}
